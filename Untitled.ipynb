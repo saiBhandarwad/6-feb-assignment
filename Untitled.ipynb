{
 "cells": [
  {
   "cell_type": "code",
   "execution_count": null,
   "id": "8c12038a-24a8-4788-8b87-79c159ff66a1",
   "metadata": {},
   "outputs": [],
   "source": [
    "# Q1.ANS=>\n",
    "list1 = [1,2,3,4, [44,55,66, True], False, (34,56,78,89,34), {1,2,3,3,2,1}, {1:34, \"key2\": [55, 67, 78, 89], 4: (45,\n",
    "22, 61, 34)}, [56, 'data science'], 'Machine Learning']\n",
    "\n",
    "from functools import reduce\n",
    "    \n",
    "def flatten(l):\n",
    "    \n",
    "    l1=[]\n",
    "    for i in l:\n",
    "        if type(i)==int :\n",
    "            l1.append(i)\n",
    "        elif type(i)==list:\n",
    "            for j in i:\n",
    "                if type(j)==int:\n",
    "                    l1.append(j)\n",
    "        \n",
    "        elif type(i)==tuple or type(i)==set:\n",
    "                for k in i:\n",
    "                    l1.append(k)\n",
    "        elif type(i)==dict:\n",
    "            for v in i.values():\n",
    "                if type(v)==int :\n",
    "                    l1.append(v)\n",
    "                elif  type(v)==list or type(v)==tuple:\n",
    "                    for m in v:\n",
    "                        l1.append(m)\n",
    "    return [reduce(lambda x,y:x*y,l1)]\n",
    "    # return l1\n",
    "flatten(list1)\n"
   ]
  },
  {
   "cell_type": "code",
   "execution_count": null,
   "id": "772b3910-7270-4b67-9bd7-50ffc99e9d99",
   "metadata": {},
   "outputs": [],
   "source": [
    "# Q2.ANS=>\n",
    "msg=\"I want to become a Data Scientist\"\n",
    "def encrypt(l):\n",
    "    l1=\"\"\n",
    "    for i in msg:\n",
    "    # print(i)\n",
    "    \n",
    "        if ord(i)>=65 and ord(i)<=90:\n",
    "            counter=90-(ord(i)-65)\n",
    "            l1+=(chr(counter))\n",
    "        elif ord(i)>=97 and ord(i)<=122:\n",
    "            counterLower=122-(ord(i))+97\n",
    "            l1+=(chr(counterLower))\n",
    "        else:\n",
    "            l1+=(\"$\")\n",
    "    return l1\n",
    "encrypt(msg)  "
   ]
  },
  {
   "cell_type": "code",
   "execution_count": null,
   "id": "06dffd8d-bcbe-4a04-a970-0b849a2876f7",
   "metadata": {},
   "outputs": [],
   "source": [
    "# Q2.ANS=>it is in lowercase that mentioned in assignment as a note\n",
    "msg=\"I want to become a Data Scientist\"\n",
    "def encrypt(l):\n",
    "    l1=\"\"\n",
    "    for i in msg.lower():\n",
    "    # print(i)\n",
    "        if ord(i)>=97 and ord(i)<=122:\n",
    "            counterLower=122-(ord(i))+97\n",
    "            l1+=(chr(counterLower))\n",
    "        else:\n",
    "            l1+=(\"$\")\n",
    "    return l1\n",
    "encrypt(msg) "
   ]
  }
 ],
 "metadata": {
  "kernelspec": {
   "display_name": "Python 3 (ipykernel)",
   "language": "python",
   "name": "python3"
  },
  "language_info": {
   "codemirror_mode": {
    "name": "ipython",
    "version": 3
   },
   "file_extension": ".py",
   "mimetype": "text/x-python",
   "name": "python",
   "nbconvert_exporter": "python",
   "pygments_lexer": "ipython3",
   "version": "3.10.8"
  }
 },
 "nbformat": 4,
 "nbformat_minor": 5
}
